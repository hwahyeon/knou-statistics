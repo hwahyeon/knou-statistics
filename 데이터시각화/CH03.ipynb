{
 "cells": [
  {
   "cell_type": "code",
   "execution_count": 1,
   "metadata": {
    "vscode": {
     "languageId": "r"
    }
   },
   "outputs": [
    {
     "name": "stdout",
     "output_type": "stream",
     "text": [
      "[1] \"Hello, R\"\n"
     ]
    }
   ],
   "source": [
    "### Program 3-1\n",
    "setwd(\"\")"
   ]
  },
  {
   "cell_type": "code",
   "execution_count": null,
   "metadata": {
    "vscode": {
     "languageId": "r"
    }
   },
   "outputs": [],
   "source": [
    "### Program 3-2\n",
    "install.packages(\"ggplot2\")\n",
    "library(ggplot2)"
   ]
  },
  {
   "cell_type": "code",
   "execution_count": null,
   "metadata": {
    "vscode": {
     "languageId": "r"
    }
   },
   "outputs": [],
   "source": [
    "### Program 3-3\n",
    "load(\"sah.RData\")\n",
    "ggplot(sah) + geom_point(aes(x=age, y=sbp))\n",
    "ggplot(sah, aes(x=age, y=sbp)) + geom_point()\n",
    "ggplot(sah, aes(age, sbp)) + geom_point()"
   ]
  },
  {
   "cell_type": "code",
   "execution_count": null,
   "metadata": {
    "vscode": {
     "languageId": "r"
    }
   },
   "outputs": [],
   "source": [
    "### Program 3-4\n",
    "ggplot(sah, aes(age, sbp, color=chd)) + geom_point()\n",
    "ggplot(sah, aes(age, sbp, shape=chd)) + geom_point()"
   ]
  },
  {
   "cell_type": "code",
   "execution_count": null,
   "metadata": {
    "vscode": {
     "languageId": "r"
    }
   },
   "outputs": [],
   "source": [
    "### Program 3-5\n",
    "ggplot(sah, aes(age, sbp)) + geom_smooth()"
   ]
  },
  {
   "cell_type": "code",
   "execution_count": null,
   "metadata": {
    "vscode": {
     "languageId": "r"
    }
   },
   "outputs": [],
   "source": [
    "### Program 3-6\n",
    "ggplot(sah, aes(age, sbp, color=chd)) + geom_smooth()"
   ]
  },
  {
   "cell_type": "code",
   "execution_count": null,
   "metadata": {
    "vscode": {
     "languageId": "r"
    }
   },
   "outputs": [],
   "source": [
    "### Program 3-7\n",
    "ggplot(sah, aes(age, sbp)) + geom_point() + geom_smooth()"
   ]
  },
  {
   "cell_type": "code",
   "execution_count": null,
   "metadata": {
    "vscode": {
     "languageId": "r"
    }
   },
   "outputs": [],
   "source": [
    "### Program 3-8\n",
    "a<-ggplot(sah, aes(age, sbp)) + geom_point()\n",
    "a\n",
    "a + geom_smooth()"
   ]
  },
  {
   "cell_type": "code",
   "execution_count": null,
   "metadata": {
    "vscode": {
     "languageId": "r"
    }
   },
   "outputs": [],
   "source": [
    "### Program 3-9\n",
    "ggplot(sah, aes(age, sbp)) + geom_point() + \n",
    "  scale_x_continuous(limits=c(0, 100))"
   ]
  },
  {
   "cell_type": "code",
   "execution_count": null,
   "metadata": {
    "vscode": {
     "languageId": "r"
    }
   },
   "outputs": [],
   "source": [
    "### Program 3-10\n",
    "ggplot(sah, aes(age, sbp)) + geom_point() \n",
    "+ scale_x_continuous(limits=c(0, 100))\n",
    "### Error occurs"
   ]
  },
  {
   "cell_type": "code",
   "execution_count": null,
   "metadata": {
    "vscode": {
     "languageId": "r"
    }
   },
   "outputs": [],
   "source": [
    "### Program 3-11\n",
    "a<-ggplot(sah, aes(age, sbp)) + geom_point() \n",
    "a + scale_x_continuous(limits=c(0, 100)) + scale_y_continuous(limits=c(90, 250))\n",
    "a + lims(x=c(0, 100)) + lims(y=c(90, 250))\n",
    "a + xlim(c(0, 100)) + ylim(c(90, 250))"
   ]
  },
  {
   "cell_type": "code",
   "execution_count": null,
   "metadata": {
    "vscode": {
     "languageId": "r"
    }
   },
   "outputs": [],
   "source": [
    "### Program 3-12\n",
    "a + geom_smooth()\n",
    "a + geom_smooth() + xlim(c(20, 40))"
   ]
  },
  {
   "cell_type": "code",
   "execution_count": null,
   "metadata": {
    "vscode": {
     "languageId": "r"
    }
   },
   "outputs": [],
   "source": [
    "### Program 3-13\n",
    "a + geom_smooth() + coord_cartesian(xlim=c(20, 40))"
   ]
  },
  {
   "cell_type": "code",
   "execution_count": null,
   "metadata": {
    "vscode": {
     "languageId": "r"
    }
   },
   "outputs": [],
   "source": [
    "### Program 3-14\n",
    "a + scale_x_continuous(limits=c(0, 100), expand = expansion(0)) \n",
    "a + scale_x_continuous(limits=c(0, 100), expand = expansion(add=10)) \n",
    "a + scale_x_continuous(limits=c(0, 100), expand = expansion(mult=0.3)) "
   ]
  },
  {
   "cell_type": "code",
   "execution_count": null,
   "metadata": {
    "vscode": {
     "languageId": "r"
    }
   },
   "outputs": [],
   "source": [
    "### Program 3-15\n",
    "a\n",
    "a + scale_x_continuous(breaks=c(20, 40, 60))\n",
    "a + scale_x_continuous(breaks=c(20, 40, 60), labels = c(\"20.0\", \"40.0\", \"60.0\"))"
   ]
  },
  {
   "cell_type": "code",
   "execution_count": null,
   "metadata": {
    "vscode": {
     "languageId": "r"
    }
   },
   "outputs": [],
   "source": [
    "### Program 3-16\n",
    "ggplot(sah, aes(x=age, y=ldl))+geom_point()\n",
    "ggplot(sah, aes(x=age, y=log(ldl)))+geom_point()\n",
    "ggplot(sah, aes(x=age, y=ldl))+geom_point()+scale_y_continuous(trans=\"log\")"
   ]
  },
  {
   "cell_type": "code",
   "execution_count": null,
   "metadata": {
    "vscode": {
     "languageId": "r"
    }
   },
   "outputs": [],
   "source": [
    "### Program 3-17\n",
    "b<-ggplot(sah, aes(x=BMI.cat, y=ldl))+geom_boxplot()\n",
    "b"
   ]
  },
  {
   "cell_type": "code",
   "execution_count": null,
   "metadata": {
    "vscode": {
     "languageId": "r"
    }
   },
   "outputs": [],
   "source": [
    "### Program 3-18\n",
    "b + scale_x_discrete(limits=c(\"normal\", \"overweight\", \"obese\"))\n",
    "b + scale_x_discrete(limits=c(\"obese\", \"overweight\"))\n",
    "b + scale_x_discrete(limits=c(\"obese\", \"overweight\", \"unknown\"))"
   ]
  },
  {
   "cell_type": "code",
   "execution_count": null,
   "metadata": {
    "vscode": {
     "languageId": "r"
    }
   },
   "outputs": [],
   "source": [
    "### Program 3-19\n",
    "b + scale_x_discrete(labels=c(\"UNDERWEIGHT\", \"NORMAL\", \"OVERWEIGHT\", \"OBESE\"))\n",
    "b + scale_x_discrete(labels=c(overweight=\"OVERWEIGHT\", obese=\"OBESE\"))"
   ]
  },
  {
   "cell_type": "code",
   "execution_count": null,
   "metadata": {
    "vscode": {
     "languageId": "r"
    }
   },
   "outputs": [],
   "source": [
    "### Program 3-20\n",
    "b + scale_x_discrete(breaks=c(\"obese\", \"overweight\"))"
   ]
  },
  {
   "cell_type": "code",
   "execution_count": null,
   "metadata": {
    "vscode": {
     "languageId": "r"
    }
   },
   "outputs": [],
   "source": [
    "### Program 3-21\n",
    "b + scale_x_discrete(limits=c(\"normal\", \"overweight\", \"obese\"), \n",
    "                     breaks=c(\"obese\", \"overweight\"), \n",
    "                     labels=c(overweight=\"OVERWEIGHT\", obese=\"OBESE\"))"
   ]
  },
  {
   "cell_type": "code",
   "execution_count": null,
   "metadata": {
    "vscode": {
     "languageId": "r"
    }
   },
   "outputs": [],
   "source": [
    "### Program 3-22\n",
    "b + scale_x_discrete(guide = guide_axis(angle = 90))\n",
    "b + guides(x = guide_axis(angle = 90))"
   ]
  },
  {
   "cell_type": "code",
   "execution_count": null,
   "metadata": {
    "vscode": {
     "languageId": "r"
    }
   },
   "outputs": [],
   "source": [
    "### Program 3-23\n",
    "ggplot(sah, aes(x=age, y=ldl, size=obesity)) + geom_point()"
   ]
  },
  {
   "cell_type": "code",
   "execution_count": null,
   "metadata": {
    "vscode": {
     "languageId": "r"
    }
   },
   "outputs": [],
   "source": [
    "### Program 3-24\n",
    "ggplot(sah, aes(x=age, y=ldl, size=obesity)) + geom_point() + scale_size(range = c(0.3, 3))"
   ]
  },
  {
   "cell_type": "code",
   "execution_count": null,
   "metadata": {
    "vscode": {
     "languageId": "r"
    }
   },
   "outputs": [],
   "source": [
    "### Program 3-25\n",
    "ggplot(sah, aes(x=age, y=ldl, shape=BMI.cat)) + geom_point()\n",
    "ggplot(sah, aes(x=age, y=ldl, shape=BMI.cat)) + geom_point() + \n",
    "  scale_shape_manual(values=c(\"underweight\"=1, \"normal\"=2, \"overweight\"=3, \"obese\"=4))"
   ]
  },
  {
   "cell_type": "code",
   "execution_count": null,
   "metadata": {
    "vscode": {
     "languageId": "r"
    }
   },
   "outputs": [],
   "source": [
    "### Program 3-26\n",
    "a\n",
    "a+coord_flip()\n",
    "b\n",
    "b+coord_flip()"
   ]
  },
  {
   "cell_type": "code",
   "execution_count": null,
   "metadata": {
    "vscode": {
     "languageId": "r"
    }
   },
   "outputs": [],
   "source": [
    "### Program 3-27\n",
    "library(datarium)\n",
    "ggplot(mice2, aes(before, after)) + geom_point() + coord_fixed()"
   ]
  },
  {
   "cell_type": "code",
   "execution_count": null,
   "metadata": {
    "vscode": {
     "languageId": "r"
    }
   },
   "outputs": [],
   "source": [
    "### Program 3-28\n",
    "a + facet_wrap(~chd)"
   ]
  },
  {
   "cell_type": "code",
   "execution_count": null,
   "metadata": {
    "vscode": {
     "languageId": "r"
    }
   },
   "outputs": [],
   "source": [
    "### Program 3-29\n",
    "a + facet_wrap(~BMI.cat)\n",
    "a + facet_wrap(~BMI.cat, ncol=1)\n",
    "a + facet_wrap(~BMI.cat, nrow=1)"
   ]
  },
  {
   "cell_type": "code",
   "execution_count": null,
   "metadata": {
    "vscode": {
     "languageId": "r"
    }
   },
   "outputs": [],
   "source": [
    "### Program 3-30\n",
    "a + facet_grid(.~famhist)\n",
    "a + facet_grid(chd~.)\n",
    "a + facet_grid(chd~famhist)"
   ]
  },
  {
   "cell_type": "code",
   "execution_count": null,
   "metadata": {
    "vscode": {
     "languageId": "r"
    }
   },
   "outputs": [],
   "source": [
    "### Program 3-31\n",
    "d<-ggplot(sah, aes(age, sbp, color=chd)) + geom_point()\n",
    "d + labs(x=\"Age\", y=\"SBP\", title=\"Scatterplot\", color=\"CHD\")\n",
    "d + xlab(\"Age\") \n",
    "d + xlab(\"Age\") + ylab(\"SBP\") + ggtitle(\"Scatterplot\")"
   ]
  },
  {
   "cell_type": "code",
   "execution_count": null,
   "metadata": {
    "vscode": {
     "languageId": "r"
    }
   },
   "outputs": [],
   "source": [
    "### Program 3-32\n",
    "d + labs(x=\"Age\", y=\"SBP\", title=\"Scatterplot\", color=\"CHD\") + \n",
    "  theme(plot.title = element_text(face=\"bold\", color=\"red\"))\n",
    "d + labs(x=\"Age\", y=\"SBP\", title=\"Scatterplot\", color=\"CHD\") + \n",
    "  theme(plot.title = element_text(hjust=0.5))\n",
    "d + labs(x=\"Age\", y=\"SBP\", title=\"Scatterplot\", color=\"CHD\") + \n",
    "  theme(plot.title = element_text(hjust=1))"
   ]
  },
  {
   "cell_type": "code",
   "execution_count": null,
   "metadata": {
    "vscode": {
     "languageId": "r"
    }
   },
   "outputs": [],
   "source": [
    "### Program 3-33\n",
    "d + labs(x=\"Age\", y=\"SBP\", title=\"Scatterplot\", color=\"CHD\") +\n",
    "  theme(axis.title.x=element_text(face=\"italic\", size=16),\n",
    "        axis.title.y=element_blank(),\n",
    "        legend.title=element_text(color = \"blue\"),\n",
    "        legend.position=\"bottom\",\n",
    "        aspect.ratio=9/16\n",
    "        )"
   ]
  },
  {
   "cell_type": "code",
   "execution_count": null,
   "metadata": {
    "vscode": {
     "languageId": "r"
    }
   },
   "outputs": [],
   "source": [
    "### Program 3-34\n",
    "d\n",
    "ggsave(\"scatterplot.pdf\")\n",
    "ggsave(\"scatterplot2.jpg\", width=5, height=4)"
   ]
  }
 ],
 "metadata": {
  "kernelspec": {
   "display_name": "R",
   "language": "R",
   "name": "ir"
  },
  "language_info": {
   "codemirror_mode": "r",
   "file_extension": ".r",
   "mimetype": "text/x-r-source",
   "name": "R",
   "pygments_lexer": "r",
   "version": "4.3.0"
  },
  "orig_nbformat": 4
 },
 "nbformat": 4,
 "nbformat_minor": 2
}
